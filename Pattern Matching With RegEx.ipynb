{
 "cells": [
  {
   "cell_type": "code",
   "execution_count": 28,
   "metadata": {},
   "outputs": [],
   "source": [
    "import re #re = regular expressions"
   ]
  },
  {
   "cell_type": "code",
   "execution_count": 29,
   "metadata": {},
   "outputs": [],
   "source": [
    "Message = \"Hey when you get back call me at 123-456-7890, if I don't answer you can try my cell at 555-555-5555.\""
   ]
  },
  {
   "cell_type": "code",
   "execution_count": 35,
   "metadata": {},
   "outputs": [],
   "source": [
    "phone_num_re = re.compile(r'(\\d\\d\\d)-(\\d\\d\\d-\\d\\d\\d\\d)') #parentheses allow you to group"
   ]
  },
  {
   "cell_type": "code",
   "execution_count": 31,
   "metadata": {},
   "outputs": [],
   "source": [
    "match_object = phone_num_re.search(Message)"
   ]
  },
  {
   "cell_type": "code",
   "execution_count": 32,
   "metadata": {},
   "outputs": [
    {
     "data": {
      "text/plain": [
       "'123-456-7890'"
      ]
     },
     "execution_count": 32,
     "metadata": {},
     "output_type": "execute_result"
    }
   ],
   "source": [
    "match_object.group()"
   ]
  },
  {
   "cell_type": "code",
   "execution_count": 33,
   "metadata": {},
   "outputs": [
    {
     "name": "stdout",
     "output_type": "stream",
     "text": [
      "Phone number found: 123-456-7890\n",
      "Area Code: 123\n",
      "Main Number: 456-7890\n"
     ]
    }
   ],
   "source": [
    "print('Phone number found: {:s}'.format((match_object.group())))\n",
    "print('Area Code: {:s}'.format((match_object.group(1))))\n",
    "print('Main Number: {:s}'.format((match_object.group(2))))"
   ]
  },
  {
   "cell_type": "code",
   "execution_count": 37,
   "metadata": {},
   "outputs": [],
   "source": [
    "matches = re.findall(r'(\\d\\d\\d)-(\\d\\d\\d-\\d\\d\\d\\d)',Message) #finds all matches rather than first group"
   ]
  },
  {
   "cell_type": "code",
   "execution_count": 38,
   "metadata": {},
   "outputs": [
    {
     "data": {
      "text/plain": [
       "[('123', '456-7890'), ('555', '555-5555')]"
      ]
     },
     "execution_count": 38,
     "metadata": {},
     "output_type": "execute_result"
    }
   ],
   "source": [
    "matches #returns a list of all matches"
   ]
  },
  {
   "cell_type": "code",
   "execution_count": 45,
   "metadata": {},
   "outputs": [
    {
     "name": "stdout",
     "output_type": "stream",
     "text": [
      "1st Phone number found: 123-456-7890\n",
      "1st Area Code: 123\n",
      "1st Main Number: 456-7890\n",
      "2nd Phone number found: 555-555-5555\n",
      "2nd Area Code: 555\n",
      "2nd Main Number: 555-5555\n"
     ]
    }
   ],
   "source": [
    "print('1st Phone number found: {:s}'.format(matches[0][0]+'-'+matches[0][1]))\n",
    "print('1st Area Code: {:s}'.format((matches[0][0])))\n",
    "print('1st Main Number: {:s}'.format(matches[0][1]))\n",
    "print('2nd Phone number found: {:s}'.format(matches[1][0]+'-'+matches[1][1]))\n",
    "print('2nd Area Code: {:s}'.format((matches[1][0])))\n",
    "print('2nd Main Number: {:s}'.format(matches[1][1]))"
   ]
  },
  {
   "cell_type": "markdown",
   "metadata": {},
   "source": [
    "| 'pipes' can be used to match multiple items"
   ]
  },
  {
   "cell_type": "code",
   "execution_count": 47,
   "metadata": {},
   "outputs": [],
   "source": [
    "hamregex = re.compile(r'(ham)?burger') #optional matching"
   ]
  },
  {
   "cell_type": "code",
   "execution_count": 48,
   "metadata": {},
   "outputs": [],
   "source": [
    "matching_obj = hamregex.search('burger man')"
   ]
  },
  {
   "cell_type": "code",
   "execution_count": 49,
   "metadata": {},
   "outputs": [
    {
     "data": {
      "text/plain": [
       "'burger'"
      ]
     },
     "execution_count": 49,
     "metadata": {},
     "output_type": "execute_result"
    }
   ],
   "source": [
    "matching_obj.group()"
   ]
  },
  {
   "cell_type": "code",
   "execution_count": 50,
   "metadata": {},
   "outputs": [
    {
     "data": {
      "text/plain": [
       "'hamburger'"
      ]
     },
     "execution_count": 50,
     "metadata": {},
     "output_type": "execute_result"
    }
   ],
   "source": [
    "matching_obj = hamregex.search('hamburger man')\n",
    "matching_obj.group()"
   ]
  },
  {
   "cell_type": "code",
   "execution_count": 92,
   "metadata": {},
   "outputs": [],
   "source": [
    "laughregex = re.compile(r'ba(ha){2,5}') #can match repeats with a given range in brackets"
   ]
  },
  {
   "cell_type": "code",
   "execution_count": 93,
   "metadata": {},
   "outputs": [],
   "source": [
    "matching_obj2 = laughregex.search(' that joke was so funny \"bahahahaha\"')"
   ]
  },
  {
   "cell_type": "code",
   "execution_count": 94,
   "metadata": {},
   "outputs": [
    {
     "data": {
      "text/plain": [
       "'bahahahaha'"
      ]
     },
     "execution_count": 94,
     "metadata": {},
     "output_type": "execute_result"
    }
   ],
   "source": [
    "matching_obj2.group()"
   ]
  },
  {
   "cell_type": "markdown",
   "metadata": {},
   "source": [
    "Char Shorthand Classes:\n",
    "- \\d digits 0-9\n",
    "- \\D any char that is not a digit 0-9\n",
    "- \\w any letter, digit, or underscore char\n",
    "- \\W any char that is not a letter, digit, or underscore\n",
    "- \\s any space, tab, or newline char\n",
    "- \\S any char that is not a space, tab, or newline"
   ]
  },
  {
   "cell_type": "code",
   "execution_count": null,
   "metadata": {},
   "outputs": [],
   "source": []
  }
 ],
 "metadata": {
  "kernelspec": {
   "display_name": "Python 3",
   "language": "python",
   "name": "python3"
  },
  "language_info": {
   "codemirror_mode": {
    "name": "ipython",
    "version": 3
   },
   "file_extension": ".py",
   "mimetype": "text/x-python",
   "name": "python",
   "nbconvert_exporter": "python",
   "pygments_lexer": "ipython3",
   "version": "3.7.1"
  }
 },
 "nbformat": 4,
 "nbformat_minor": 2
}
